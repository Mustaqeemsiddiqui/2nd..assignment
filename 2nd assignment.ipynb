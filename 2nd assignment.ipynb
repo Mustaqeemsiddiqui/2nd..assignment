{
 "cells": [
  {
   "cell_type": "code",
   "execution_count": 53,
   "id": "27cc284c-41e9-4ae6-966b-80271a120f05",
   "metadata": {},
   "outputs": [],
   "source": [
    "#Q1 HOW DO YOU COMMENT IN PYYHON? WHAT ARE THE DIFFERENT TYPES OF COMMENTS?"
   ]
  },
  {
   "cell_type": "code",
   "execution_count": 54,
   "id": "f5269278-06ec-4e5d-a4b2-623706602b65",
   "metadata": {},
   "outputs": [
    {
     "ename": "IndentationError",
     "evalue": "unexpected indent (3752477833.py, line 7)",
     "output_type": "error",
     "traceback": [
      "\u001b[0;36m  Cell \u001b[0;32mIn[54], line 7\u001b[0;36m\u001b[0m\n\u001b[0;31m    for i in l :\u001b[0m\n\u001b[0m    ^\u001b[0m\n\u001b[0;31mIndentationError\u001b[0m\u001b[0;31m:\u001b[0m unexpected indent\n"
     ]
    }
   ],
   "source": [
    "#ANS:  WE comment in python by the symbol of hash(#)\n",
    "#1. If we use hash(#) while starting the coding then it will take as comment\n",
    "#2 .There are three types of comments: i)single-line. ii)multi-line iii) docstring\n",
    "#i).SINGLE-LINE COMMENTS: Single-line cooments begin with (#) character. Anything which is written in a single line after(#) is considered as comment\n",
    "    # there are two ways of using single-line comment in Python. we can use it before or after the code ...e.g:\n",
    "    # l=[1,2,3,4,5]\n",
    "    for i in l :\n",
    "        print(i)     # this will show as error because we have used hash in the starting"
   ]
  },
  {
   "cell_type": "code",
   "execution_count": 55,
   "id": "e55439e8-5481-4aee-8501-8a6f7ba7df40",
   "metadata": {},
   "outputs": [
    {
     "name": "stdout",
     "output_type": "stream",
     "text": [
      "mustaqeem\n",
      "siddiqui\n",
      "523\n",
      "True\n"
     ]
    }
   ],
   "source": [
    "# second example :\n",
    "l=[\"mustaqeem\",\"siddiqui\",523,True]\n",
    "for i in l:\n",
    "    print(i) # this does not showing error because we didn't write while first coding line"
   ]
  },
  {
   "cell_type": "code",
   "execution_count": 56,
   "id": "85a8e8b5-a457-4389-8aad-1846afc93d7f",
   "metadata": {},
   "outputs": [
    {
     "name": "stdout",
     "output_type": "stream",
     "text": [
      "this is a single line comment\n"
     ]
    },
    {
     "data": {
      "text/plain": [
       "'this is a string literal ,which is not assigned to any variable'"
      ]
     },
     "execution_count": 56,
     "metadata": {},
     "output_type": "execute_result"
    }
   ],
   "source": [
    "#ii).MULTI-LINE COMMENTS: python does not supperts multi line comments.however ,there are multiple ways to overcome \n",
    "# this issue .None of these ways ar technically multi-line comments ,but we can use them as one .\n",
    "# the first way is by using # at the begining of each line of the comment\n",
    "# e.g:\n",
    "#1).we can use the multi line comments \n",
    "   # in this way by\n",
    "   # including the comment character \n",
    "   # at the begining of each line\n",
    "#the next way is by using strings literals but not assigning them into any variables.if you do not assign a string\n",
    "# literal to a variable ,the python interpreter ignores it . we will use it for our advantage to write multi-line comments.\n",
    "# we can either use a single ('') quotation or double (\" \") quotation.\n",
    "# e.g this is a comment \n",
    "print(\"this is a single line comment\")\n",
    "'this is a string literal ,which is not assigned to any variable'\n"
   ]
  },
  {
   "cell_type": "code",
   "execution_count": 57,
   "id": "9e2aaaf3-133d-4872-aad5-2ff1b08e5381",
   "metadata": {},
   "outputs": [
    {
     "data": {
      "text/plain": [
       "' this is a multi-line comment with the use of multi-line strings '"
      ]
     },
     "execution_count": 57,
     "metadata": {},
     "output_type": "execute_result"
    }
   ],
   "source": [
    "# we can also use multi-line strings commenting.to do this,use either a '' or \"\" quotation marks three times\n",
    "\"\"\" this is a multi-line comment with the use of multi-line strings \"\"\""
   ]
  },
  {
   "cell_type": "code",
   "execution_count": 58,
   "id": "ab98b385-353d-49bf-8cbf-e6ac7363e5df",
   "metadata": {},
   "outputs": [],
   "source": [
    "#iii).PYTHON DOCSTRINGS: Python provides an in built feature called docstrings for commenting on module,methods, function\n",
    "    #, object and classes.they are written in the first line after defining a module.function,method,etc,\n",
    "    #using three quotation marks('' or\"\") .if we do not use it in first line ,the enterpreter will not take it as \n",
    "    #docstring ,we can also excess docstrings using the__doc_attribute.\n",
    "    \n",
    "    "
   ]
  },
  {
   "cell_type": "code",
   "execution_count": 23,
   "id": "78edad0b-0460-47db-87ca-4e7bf3c23d5b",
   "metadata": {},
   "outputs": [],
   "source": [
    "#Q2.WHAT ARE THE VARIABLES IN PYTHON ? HOW DO YOU DECLARE AND ASSIGN VALUES TO VARIABLES?"
   ]
  },
  {
   "cell_type": "code",
   "execution_count": 25,
   "id": "620e030e-2596-4b10-bc25-1ec95c073f5b",
   "metadata": {},
   "outputs": [],
   "source": [
    "#ans. A VARIABLE is a string of characters and numbers associated with a piece of information.\n",
    "# the assignment operator , denoted by the symbol (=) is the operator that is used to assign values to variable sin python\n",
    "# e.g: the line s=\"mustaqeem\" takes the known value  \"mustaqeem\" and assigns that value to the variable with name \"s\""
   ]
  },
  {
   "cell_type": "code",
   "execution_count": 26,
   "id": "60ea81d5-6da2-4bf1-8b69-2e1706be245a",
   "metadata": {},
   "outputs": [],
   "source": [
    "s=\"mustaqeem\""
   ]
  },
  {
   "cell_type": "code",
   "execution_count": 27,
   "id": "c1f2b577-bacd-4259-8a6f-dcea430a3d57",
   "metadata": {},
   "outputs": [
    {
     "data": {
      "text/plain": [
       "'mustaqeem'"
      ]
     },
     "execution_count": 27,
     "metadata": {},
     "output_type": "execute_result"
    }
   ],
   "source": [
    "s"
   ]
  },
  {
   "cell_type": "code",
   "execution_count": 28,
   "id": "b28807e4-3aac-44d0-83d9-a482086a0178",
   "metadata": {},
   "outputs": [],
   "source": [
    "#Q3. HOW DO YOU CONVERT ONE DATA TYPE TO ANOTHER IN PYTHON?"
   ]
  },
  {
   "cell_type": "code",
   "execution_count": 29,
   "id": "cd0536eb-cec6-437c-b7f2-6f27cf016cd4",
   "metadata": {},
   "outputs": [],
   "source": [
    "# ANS..To convert between data types , we simply use the type name as a function.\n",
    "# there are several  built-in function to perform conversion from one data type to  another"
   ]
  },
  {
   "cell_type": "code",
   "execution_count": 33,
   "id": "02e70c74-3d84-45bc-9cc1-83248a0b775c",
   "metadata": {},
   "outputs": [],
   "source": [
    " k=9"
   ]
  },
  {
   "cell_type": "code",
   "execution_count": 35,
   "id": "b1914026-0120-4318-be41-1b6aea1aa5b0",
   "metadata": {},
   "outputs": [
    {
     "data": {
      "text/plain": [
       "9.0"
      ]
     },
     "execution_count": 35,
     "metadata": {},
     "output_type": "execute_result"
    }
   ],
   "source": [
    "float(k)"
   ]
  },
  {
   "cell_type": "code",
   "execution_count": 36,
   "id": "6c424c4f-a147-4bb3-bd6c-be73ef24cfb7",
   "metadata": {},
   "outputs": [
    {
     "data": {
      "text/plain": [
       "int"
      ]
     },
     "execution_count": 36,
     "metadata": {},
     "output_type": "execute_result"
    }
   ],
   "source": [
    "type(k)"
   ]
  },
  {
   "cell_type": "code",
   "execution_count": 37,
   "id": "7692b176-d090-4d78-98f2-7e9f856a9e6e",
   "metadata": {},
   "outputs": [
    {
     "data": {
      "text/plain": [
       "float"
      ]
     },
     "execution_count": 37,
     "metadata": {},
     "output_type": "execute_result"
    }
   ],
   "source": [
    "type(float(k))"
   ]
  },
  {
   "cell_type": "code",
   "execution_count": 38,
   "id": "5cd45ace-6600-48fc-8ed9-1a0c1704e550",
   "metadata": {},
   "outputs": [],
   "source": [
    "#Q4. HOW DO YOU WRITE AND EXECUTE A PYTHON SCRIPT FROM THE COMMAND LINE?"
   ]
  },
  {
   "cell_type": "code",
   "execution_count": 1,
   "id": "60579c43-0018-4132-9ace-734cf0051a6a",
   "metadata": {},
   "outputs": [],
   "source": [
    "#The easiest way to run a python script is by using the python command .we need to open a command line and type the \n",
    " # word python followed by the path to our script file like this : python first_script.py Hello World!Then we will hit the \"enter\" button from our keyboard."
   ]
  },
  {
   "cell_type": "code",
   "execution_count": 1,
   "id": "13085315-a2c1-4b01-abcf-850a309d0886",
   "metadata": {},
   "outputs": [],
   "source": [
    "#Q5.GIVEN A LIST my_list=[1,2,3,4,5],write the code to slice the list and obtain the suub-list[2,3]"
   ]
  },
  {
   "cell_type": "code",
   "execution_count": 2,
   "id": "17d72dd5-b4e4-49b1-ac45-b46497fd1466",
   "metadata": {},
   "outputs": [],
   "source": [
    "#ans:\n",
    "my_list=[1,2,3,4,5]"
   ]
  },
  {
   "cell_type": "code",
   "execution_count": 5,
   "id": "f9282000-f4ce-4d49-bf85-810aae2c06c0",
   "metadata": {},
   "outputs": [
    {
     "data": {
      "text/plain": [
       "[2, 3]"
      ]
     },
     "execution_count": 5,
     "metadata": {},
     "output_type": "execute_result"
    }
   ],
   "source": [
    "my_list[1:3]"
   ]
  },
  {
   "cell_type": "code",
   "execution_count": 14,
   "id": "618bbd22-37b0-42fa-98fd-52d3e0f140fc",
   "metadata": {},
   "outputs": [],
   "source": [
    "#Q6.WHAT IS COMPLEX NUMBER IN MATHEMATICS,AND HOW IS IT REPRESENTED IN PYTHON?"
   ]
  },
  {
   "cell_type": "code",
   "execution_count": 8,
   "id": "5e6395e7-151f-4e55-8cff-c7a74790877b",
   "metadata": {},
   "outputs": [],
   "source": [
    "#ANS: complex number is the addition of real and imginary number  and in MATHEMATICS it is represented in a+ib\n",
    "     # In PYTHON it is represented by a+jb form .If we code complex number in mathematical form it will show error\n",
    "     #e.g:\n",
    "        "
   ]
  },
  {
   "cell_type": "code",
   "execution_count": 12,
   "id": "48c8c68c-c464-4ac9-8877-2d5fdfb0c100",
   "metadata": {},
   "outputs": [
    {
     "ename": "SyntaxError",
     "evalue": "invalid decimal literal (2138890166.py, line 1)",
     "output_type": "error",
     "traceback": [
      "\u001b[0;36m  Cell \u001b[0;32mIn[12], line 1\u001b[0;36m\u001b[0m\n\u001b[0;31m    b=2+6i\u001b[0m\n\u001b[0m        ^\u001b[0m\n\u001b[0;31mSyntaxError\u001b[0m\u001b[0;31m:\u001b[0m invalid decimal literal\n"
     ]
    }
   ],
   "source": [
    "b=2+6i"
   ]
  },
  {
   "cell_type": "code",
   "execution_count": 10,
   "id": "f8f1d83c-0047-4583-b685-c8c6a96cb912",
   "metadata": {},
   "outputs": [],
   "source": [
    "a=5+6j"
   ]
  },
  {
   "cell_type": "code",
   "execution_count": 11,
   "id": "930c0424-5c4e-4cc4-81d3-9cb29a49117c",
   "metadata": {},
   "outputs": [
    {
     "data": {
      "text/plain": [
       "(5+6j)"
      ]
     },
     "execution_count": 11,
     "metadata": {},
     "output_type": "execute_result"
    }
   ],
   "source": [
    "a"
   ]
  },
  {
   "cell_type": "code",
   "execution_count": 13,
   "id": "8ebd3a7f-bdb8-4572-a72a-027a921df111",
   "metadata": {},
   "outputs": [
    {
     "data": {
      "text/plain": [
       "complex"
      ]
     },
     "execution_count": 13,
     "metadata": {},
     "output_type": "execute_result"
    }
   ],
   "source": [
    "type(a)"
   ]
  },
  {
   "cell_type": "code",
   "execution_count": 15,
   "id": "ae0897ba-17d7-430a-ad81-26d9298fc2c6",
   "metadata": {},
   "outputs": [],
   "source": [
    "#Q7.What is the correct way to declare a variable named age and assign the value 25 to it?"
   ]
  },
  {
   "cell_type": "code",
   "execution_count": 19,
   "id": "f28a6362-7344-49a3-a23a-ec0224f28d75",
   "metadata": {},
   "outputs": [],
   "source": [
    "#ans:age should be in integer form\n",
    "age=25"
   ]
  },
  {
   "cell_type": "code",
   "execution_count": 20,
   "id": "927f81ba-50d1-423c-b88c-e4f592ac98c2",
   "metadata": {},
   "outputs": [
    {
     "data": {
      "text/plain": [
       "25"
      ]
     },
     "execution_count": 20,
     "metadata": {},
     "output_type": "execute_result"
    }
   ],
   "source": [
    "age"
   ]
  },
  {
   "cell_type": "code",
   "execution_count": 24,
   "id": "6f97ae2b-89e9-4755-bd5f-5d64b94af444",
   "metadata": {},
   "outputs": [
    {
     "data": {
      "text/plain": [
       "int"
      ]
     },
     "execution_count": 24,
     "metadata": {},
     "output_type": "execute_result"
    }
   ],
   "source": [
    "type(age)"
   ]
  },
  {
   "cell_type": "code",
   "execution_count": 25,
   "id": "85412570-c37e-49a2-a742-3ccaaeefa381",
   "metadata": {},
   "outputs": [],
   "source": [
    "#Q8. Declare a variable named price and assign the value 9.99 to it.What data type does this variable belongs to?"
   ]
  },
  {
   "cell_type": "code",
   "execution_count": 26,
   "id": "2b971a3b-0fe3-4bb3-93b2-5bb54e6a3608",
   "metadata": {},
   "outputs": [],
   "source": [
    "#ans: This variable will belongs to float data type .because .99 is floatinng point numbes "
   ]
  },
  {
   "cell_type": "code",
   "execution_count": 27,
   "id": "6b085564-a2f2-4993-adf9-8279fe6eb05f",
   "metadata": {},
   "outputs": [],
   "source": [
    "price=9.99"
   ]
  },
  {
   "cell_type": "code",
   "execution_count": 28,
   "id": "55216d67-577d-4c86-a2f2-1b14e582f6d1",
   "metadata": {},
   "outputs": [
    {
     "data": {
      "text/plain": [
       "float"
      ]
     },
     "execution_count": 28,
     "metadata": {},
     "output_type": "execute_result"
    }
   ],
   "source": [
    "type(price)"
   ]
  },
  {
   "cell_type": "code",
   "execution_count": 29,
   "id": "dc8d6b64-b01d-4855-8b8f-d206e021015e",
   "metadata": {},
   "outputs": [],
   "source": [
    "#Q9.Create a variable named name and assign your full name to it as a string .How would you print the value of this variable ?"
   ]
  },
  {
   "cell_type": "code",
   "execution_count": 36,
   "id": "e2195092-3dd6-4f17-9cc4-4af5a21249b3",
   "metadata": {},
   "outputs": [],
   "source": [
    "#ans: we will code as it has given then i will call out the variable then it will print my name or i will call print(name)\n",
    "name=\"Mustaqeem Siddiqui\""
   ]
  },
  {
   "cell_type": "code",
   "execution_count": 37,
   "id": "21f60a74-2e25-41fd-b032-2169468a2a6c",
   "metadata": {},
   "outputs": [
    {
     "data": {
      "text/plain": [
       "'Mustaqeem Siddiqui'"
      ]
     },
     "execution_count": 37,
     "metadata": {},
     "output_type": "execute_result"
    }
   ],
   "source": [
    "name"
   ]
  },
  {
   "cell_type": "code",
   "execution_count": 38,
   "id": "219c1ad3-bb10-4f76-9faa-0db2bbfd941b",
   "metadata": {},
   "outputs": [
    {
     "name": "stdout",
     "output_type": "stream",
     "text": [
      "Mustaqeem Siddiqui\n"
     ]
    }
   ],
   "source": [
    "print(name)"
   ]
  },
  {
   "cell_type": "code",
   "execution_count": 39,
   "id": "eec89d57-159b-415c-aede-15381739895c",
   "metadata": {},
   "outputs": [
    {
     "name": "stdout",
     "output_type": "stream",
     "text": [
      "Mustaqeem Siddiqui\n"
     ]
    },
    {
     "data": {
      "text/plain": [
       "NoneType"
      ]
     },
     "execution_count": 39,
     "metadata": {},
     "output_type": "execute_result"
    }
   ],
   "source": [
    "type(print(name))"
   ]
  },
  {
   "cell_type": "code",
   "execution_count": 40,
   "id": "c0089406-de32-4876-b099-2410874ef093",
   "metadata": {},
   "outputs": [
    {
     "data": {
      "text/plain": [
       "str"
      ]
     },
     "execution_count": 40,
     "metadata": {},
     "output_type": "execute_result"
    }
   ],
   "source": [
    "type(name)"
   ]
  },
  {
   "cell_type": "code",
   "execution_count": 41,
   "id": "f81c3626-f775-441c-ad09-c910ead21d21",
   "metadata": {},
   "outputs": [],
   "source": [
    "#Q10.Given the string \"Hello World\",abstract the substring World\"\""
   ]
  },
  {
   "cell_type": "code",
   "execution_count": 43,
   "id": "fdcc6fe7-6146-4ab7-9b05-4621dbf2f163",
   "metadata": {},
   "outputs": [],
   "source": [
    "# ans:\n",
    "d=\"Hello World!\""
   ]
  },
  {
   "cell_type": "code",
   "execution_count": 44,
   "id": "a10ee8b0-1297-41bc-9b71-5a8e67621ea5",
   "metadata": {},
   "outputs": [
    {
     "data": {
      "text/plain": [
       "'World'"
      ]
     },
     "execution_count": 44,
     "metadata": {},
     "output_type": "execute_result"
    }
   ],
   "source": [
    "d[6:11]"
   ]
  },
  {
   "cell_type": "code",
   "execution_count": 45,
   "id": "a7e61915-3bdd-476a-951d-740c55b5e7c0",
   "metadata": {},
   "outputs": [
    {
     "data": {
      "text/plain": [
       "str"
      ]
     },
     "execution_count": 45,
     "metadata": {},
     "output_type": "execute_result"
    }
   ],
   "source": [
    "type(d[6:11])"
   ]
  },
  {
   "cell_type": "code",
   "execution_count": 46,
   "id": "bcc11356-82e3-43c6-887d-b4b82be590f9",
   "metadata": {},
   "outputs": [],
   "source": [
    "#Q11.Create a variable named \"is_student\"and assign it a boolean value indicating whether you are currently student or not."
   ]
  },
  {
   "cell_type": "code",
   "execution_count": 51,
   "id": "bd1a5e8e-657d-46c6-aaa5-7d219acb13c3",
   "metadata": {},
   "outputs": [],
   "source": [
    "#ans:\n",
    "is_student={True:\"i am currently a student\"}"
   ]
  },
  {
   "cell_type": "code",
   "execution_count": 52,
   "id": "dec593e9-b24e-4378-9110-7059b5f8a802",
   "metadata": {},
   "outputs": [
    {
     "data": {
      "text/plain": [
       "'i am currently a student'"
      ]
     },
     "execution_count": 52,
     "metadata": {},
     "output_type": "execute_result"
    }
   ],
   "source": [
    "is_student[1]"
   ]
  },
  {
   "cell_type": "code",
   "execution_count": null,
   "id": "33f13d05-efb4-4858-8873-bce12335a101",
   "metadata": {},
   "outputs": [],
   "source": []
  }
 ],
 "metadata": {
  "kernelspec": {
   "display_name": "Python 3 (ipykernel)",
   "language": "python",
   "name": "python3"
  },
  "language_info": {
   "codemirror_mode": {
    "name": "ipython",
    "version": 3
   },
   "file_extension": ".py",
   "mimetype": "text/x-python",
   "name": "python",
   "nbconvert_exporter": "python",
   "pygments_lexer": "ipython3",
   "version": "3.10.8"
  }
 },
 "nbformat": 4,
 "nbformat_minor": 5
}
